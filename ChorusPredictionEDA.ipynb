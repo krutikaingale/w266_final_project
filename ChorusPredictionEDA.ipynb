{
  "nbformat": 4,
  "nbformat_minor": 0,
  "metadata": {
    "colab": {
      "name": "ChorusPredictionEDA.ipynb",
      "provenance": [],
      "collapsed_sections": []
    },
    "kernelspec": {
      "name": "python3",
      "display_name": "Python 3"
    },
    "accelerator": "GPU",
    "gpuClass": "standard"
  },
  "cells": [
    {
      "cell_type": "code",
      "metadata": {
        "id": "3fDnjiDoeZbK",
        "colab": {
          "base_uri": "https://localhost:8080/"
        },
        "outputId": "7cb310b4-cd79-46d9-b46d-4f80eef21212"
      },
      "source": [
        "# imports\n",
        "import pandas as pd\n",
        "import numpy as np\n",
        "\n",
        "\n",
        "import nltk\n",
        "nltk.download('stopwords')\n",
        "from nltk.corpus import stopwords\n",
        "\n",
        "import math\n",
        "import random\n",
        "import re\n",
        "import argparse\n",
        "import os\n",
        "\n"
      ],
      "execution_count": null,
      "outputs": [
        {
          "output_type": "stream",
          "name": "stderr",
          "text": [
            "[nltk_data] Downloading package stopwords to /root/nltk_data...\n",
            "[nltk_data]   Unzipping corpora/stopwords.zip.\n"
          ]
        }
      ]
    },
    {
      "cell_type": "code",
      "metadata": {
        "id": "Goj88fbbQ3Wo",
        "colab": {
          "base_uri": "https://localhost:8080/"
        },
        "outputId": "62a79081-d6c8-4469-b657-2759e68b6932"
      },
      "source": [
        "from google.colab import drive\n",
        "\n",
        "drive.mount('/content/gdrive')\n",
        "root_dir = \"/content/gdrive/My Drive/\"\n",
        "base_dir = root_dir + 'W266 Final Project/data/BART/'"
      ],
      "execution_count": null,
      "outputs": [
        {
          "output_type": "stream",
          "name": "stdout",
          "text": [
            "Mounted at /content/gdrive\n"
          ]
        }
      ]
    },
    {
      "cell_type": "code",
      "source": [
        "# Create a dataloading module as per the PyTorch Lightning Docs\n",
        "train_df = pd.read_csv('./gdrive/MyDrive/W266 Final Project/data/T5/train.csv')\n",
        "\n",
        "val_df = pd.read_csv('./gdrive/MyDrive/W266 Final Project/data/T5/val.csv')\n",
        "\n",
        "test_df = pd.read_csv('./gdrive/MyDrive/W266 Final Project/data/T5/test.csv')"
      ],
      "metadata": {
        "id": "TvKN3XkW4yNY"
      },
      "execution_count": null,
      "outputs": []
    },
    {
      "cell_type": "code",
      "source": [
        "df = train_df.append([val_df, test_df])\n",
        "df"
      ],
      "metadata": {
        "colab": {
          "base_uri": "https://localhost:8080/",
          "height": 599
        },
        "id": "kHgofkZiVKwc",
        "outputId": "a244f96d-c8cd-42d2-e64d-a268c4d5d045"
      },
      "execution_count": null,
      "outputs": [
        {
          "output_type": "execute_result",
          "data": {
            "text/plain": [
              "                                      song_id  \\\n",
              "0      Macklemore-and-ryan-lewis-wings-lyrics   \n",
              "1      Macklemore-and-ryan-lewis-wings-lyrics   \n",
              "2               Curren-y-privacy-glass-lyrics   \n",
              "3               Curren-y-privacy-glass-lyrics   \n",
              "4     Beyonce-mi-gente-homecoming-live-lyrics   \n",
              "...                                       ...   \n",
              "1312                Trey-songz-blessed-lyrics   \n",
              "1313                Trey-songz-blessed-lyrics   \n",
              "1314                Trey-songz-blessed-lyrics   \n",
              "1315               Mac-miller-aquarium-lyrics   \n",
              "1316               Mac-miller-aquarium-lyrics   \n",
              "\n",
              "                                                 inputs  \\\n",
              "0     \\n\\n[Verse 1: Macklemore]\\nI was seven years o...   \n",
              "1     \\n\\n[Verse 1: Macklemore]\\nI was seven years o...   \n",
              "2     \\n\\n[Intro]\\nOne time for the weed\\nOne time f...   \n",
              "3     \\n\\n[Intro]\\nOne time for the weed\\nOne time f...   \n",
              "4     \\n\\n[Intro: Beyoncé & Mr. Vegas]\\n(Turn up, Be...   \n",
              "...                                                 ...   \n",
              "1312  \\n\\n[Intro: DJ Drama]\\nTo whom it may concern\\...   \n",
              "1313  \\n\\n[Intro: DJ Drama]\\nTo whom it may concern\\...   \n",
              "1314  \\n\\n[Intro: DJ Drama]\\nTo whom it may concern\\...   \n",
              "1315  \\n\\n[Intro]\\n(Yeah)\\nCan you feel it?\\nDon't a...   \n",
              "1316  \\n\\n[Intro]\\n(Yeah)\\nCan you feel it?\\nDon't a...   \n",
              "\n",
              "                                                targets  \\\n",
              "0     <extra_id_0>\\n\\n[Hook: Children Choir]\\nI wann...   \n",
              "1     <extra_id_0>\\n\\n[Hook: Children Choir]\\nI wann...   \n",
              "2     <extra_id_0>\\n\\n[Hook]\\nAnd I usually don't ri...   \n",
              "3                                <extra_id_0>\\n\\n[Hook]   \n",
              "4     <extra_id_0>\\n\\n[Pre-Chorus: Willy William & B...   \n",
              "...                                                 ...   \n",
              "1312  <extra_id_0>\\n\\n[Hook]\\nNow tell me God, how c...   \n",
              "1313  <extra_id_0>\\n\\n[Hook]\\nNow tell me God, how c...   \n",
              "1314  <extra_id_0>\\n\\n[Hook]\\nNow tell me God, how c...   \n",
              "1315  <extra_id_0>\\n\\n[Hook]\\nI'm wearing a blindfol...   \n",
              "1316  <extra_id_0>\\n\\n[Hook]\\nI'm wearing a blindfol...   \n",
              "\n",
              "                                             targets_10  \\\n",
              "0     <extra_id_0> [Hook: Children Choir] I wanna fl...   \n",
              "1     <extra_id_0> [Hook: Children Choir] I wanna fl...   \n",
              "2     <extra_id_0> [Hook] And I usually don't ride l...   \n",
              "3                                   <extra_id_0> [Hook]   \n",
              "4     <extra_id_0> [Pre-Chorus: Willy William & Beyo...   \n",
              "...                                                 ...   \n",
              "1312  <extra_id_0> [Hook] Now tell me God, how can y...   \n",
              "1313  <extra_id_0> [Hook] Now tell me God, how can y...   \n",
              "1314  <extra_id_0> [Hook] Now tell me God, how can y...   \n",
              "1315  <extra_id_0> [Hook] I'm wearing a blindfold, l...   \n",
              "1316  <extra_id_0> [Hook] I'm wearing a blindfold, l...   \n",
              "\n",
              "                                             targets_20  \n",
              "0     <extra_id_0> [Hook: Children Choir] I wanna fl...  \n",
              "1     <extra_id_0> [Hook: Children Choir] I wanna fl...  \n",
              "2     <extra_id_0> [Hook] And I usually don't ride l...  \n",
              "3                                   <extra_id_0> [Hook]  \n",
              "4     <extra_id_0> [Pre-Chorus: Willy William & Beyo...  \n",
              "...                                                 ...  \n",
              "1312  <extra_id_0> [Hook] Now tell me God, how can y...  \n",
              "1313  <extra_id_0> [Hook] Now tell me God, how can y...  \n",
              "1314  <extra_id_0> [Hook] Now tell me God, how can y...  \n",
              "1315  <extra_id_0> [Hook] I'm wearing a blindfold, l...  \n",
              "1316  <extra_id_0> [Hook] I'm wearing a blindfold, l...  \n",
              "\n",
              "[13176 rows x 5 columns]"
            ],
            "text/html": [
              "\n",
              "  <div id=\"df-b554e3d0-cd27-460e-80ca-0269a2a79df2\">\n",
              "    <div class=\"colab-df-container\">\n",
              "      <div>\n",
              "<style scoped>\n",
              "    .dataframe tbody tr th:only-of-type {\n",
              "        vertical-align: middle;\n",
              "    }\n",
              "\n",
              "    .dataframe tbody tr th {\n",
              "        vertical-align: top;\n",
              "    }\n",
              "\n",
              "    .dataframe thead th {\n",
              "        text-align: right;\n",
              "    }\n",
              "</style>\n",
              "<table border=\"1\" class=\"dataframe\">\n",
              "  <thead>\n",
              "    <tr style=\"text-align: right;\">\n",
              "      <th></th>\n",
              "      <th>song_id</th>\n",
              "      <th>inputs</th>\n",
              "      <th>targets</th>\n",
              "      <th>targets_10</th>\n",
              "      <th>targets_20</th>\n",
              "    </tr>\n",
              "  </thead>\n",
              "  <tbody>\n",
              "    <tr>\n",
              "      <th>0</th>\n",
              "      <td>Macklemore-and-ryan-lewis-wings-lyrics</td>\n",
              "      <td>\\n\\n[Verse 1: Macklemore]\\nI was seven years o...</td>\n",
              "      <td>&lt;extra_id_0&gt;\\n\\n[Hook: Children Choir]\\nI wann...</td>\n",
              "      <td>&lt;extra_id_0&gt; [Hook: Children Choir] I wanna fl...</td>\n",
              "      <td>&lt;extra_id_0&gt; [Hook: Children Choir] I wanna fl...</td>\n",
              "    </tr>\n",
              "    <tr>\n",
              "      <th>1</th>\n",
              "      <td>Macklemore-and-ryan-lewis-wings-lyrics</td>\n",
              "      <td>\\n\\n[Verse 1: Macklemore]\\nI was seven years o...</td>\n",
              "      <td>&lt;extra_id_0&gt;\\n\\n[Hook: Children Choir]\\nI wann...</td>\n",
              "      <td>&lt;extra_id_0&gt; [Hook: Children Choir] I wanna fl...</td>\n",
              "      <td>&lt;extra_id_0&gt; [Hook: Children Choir] I wanna fl...</td>\n",
              "    </tr>\n",
              "    <tr>\n",
              "      <th>2</th>\n",
              "      <td>Curren-y-privacy-glass-lyrics</td>\n",
              "      <td>\\n\\n[Intro]\\nOne time for the weed\\nOne time f...</td>\n",
              "      <td>&lt;extra_id_0&gt;\\n\\n[Hook]\\nAnd I usually don't ri...</td>\n",
              "      <td>&lt;extra_id_0&gt; [Hook] And I usually don't ride l...</td>\n",
              "      <td>&lt;extra_id_0&gt; [Hook] And I usually don't ride l...</td>\n",
              "    </tr>\n",
              "    <tr>\n",
              "      <th>3</th>\n",
              "      <td>Curren-y-privacy-glass-lyrics</td>\n",
              "      <td>\\n\\n[Intro]\\nOne time for the weed\\nOne time f...</td>\n",
              "      <td>&lt;extra_id_0&gt;\\n\\n[Hook]</td>\n",
              "      <td>&lt;extra_id_0&gt; [Hook]</td>\n",
              "      <td>&lt;extra_id_0&gt; [Hook]</td>\n",
              "    </tr>\n",
              "    <tr>\n",
              "      <th>4</th>\n",
              "      <td>Beyonce-mi-gente-homecoming-live-lyrics</td>\n",
              "      <td>\\n\\n[Intro: Beyoncé &amp; Mr. Vegas]\\n(Turn up, Be...</td>\n",
              "      <td>&lt;extra_id_0&gt;\\n\\n[Pre-Chorus: Willy William &amp; B...</td>\n",
              "      <td>&lt;extra_id_0&gt; [Pre-Chorus: Willy William &amp; Beyo...</td>\n",
              "      <td>&lt;extra_id_0&gt; [Pre-Chorus: Willy William &amp; Beyo...</td>\n",
              "    </tr>\n",
              "    <tr>\n",
              "      <th>...</th>\n",
              "      <td>...</td>\n",
              "      <td>...</td>\n",
              "      <td>...</td>\n",
              "      <td>...</td>\n",
              "      <td>...</td>\n",
              "    </tr>\n",
              "    <tr>\n",
              "      <th>1312</th>\n",
              "      <td>Trey-songz-blessed-lyrics</td>\n",
              "      <td>\\n\\n[Intro: DJ Drama]\\nTo whom it may concern\\...</td>\n",
              "      <td>&lt;extra_id_0&gt;\\n\\n[Hook]\\nNow tell me God, how c...</td>\n",
              "      <td>&lt;extra_id_0&gt; [Hook] Now tell me God, how can y...</td>\n",
              "      <td>&lt;extra_id_0&gt; [Hook] Now tell me God, how can y...</td>\n",
              "    </tr>\n",
              "    <tr>\n",
              "      <th>1313</th>\n",
              "      <td>Trey-songz-blessed-lyrics</td>\n",
              "      <td>\\n\\n[Intro: DJ Drama]\\nTo whom it may concern\\...</td>\n",
              "      <td>&lt;extra_id_0&gt;\\n\\n[Hook]\\nNow tell me God, how c...</td>\n",
              "      <td>&lt;extra_id_0&gt; [Hook] Now tell me God, how can y...</td>\n",
              "      <td>&lt;extra_id_0&gt; [Hook] Now tell me God, how can y...</td>\n",
              "    </tr>\n",
              "    <tr>\n",
              "      <th>1314</th>\n",
              "      <td>Trey-songz-blessed-lyrics</td>\n",
              "      <td>\\n\\n[Intro: DJ Drama]\\nTo whom it may concern\\...</td>\n",
              "      <td>&lt;extra_id_0&gt;\\n\\n[Hook]\\nNow tell me God, how c...</td>\n",
              "      <td>&lt;extra_id_0&gt; [Hook] Now tell me God, how can y...</td>\n",
              "      <td>&lt;extra_id_0&gt; [Hook] Now tell me God, how can y...</td>\n",
              "    </tr>\n",
              "    <tr>\n",
              "      <th>1315</th>\n",
              "      <td>Mac-miller-aquarium-lyrics</td>\n",
              "      <td>\\n\\n[Intro]\\n(Yeah)\\nCan you feel it?\\nDon't a...</td>\n",
              "      <td>&lt;extra_id_0&gt;\\n\\n[Hook]\\nI'm wearing a blindfol...</td>\n",
              "      <td>&lt;extra_id_0&gt; [Hook] I'm wearing a blindfold, l...</td>\n",
              "      <td>&lt;extra_id_0&gt; [Hook] I'm wearing a blindfold, l...</td>\n",
              "    </tr>\n",
              "    <tr>\n",
              "      <th>1316</th>\n",
              "      <td>Mac-miller-aquarium-lyrics</td>\n",
              "      <td>\\n\\n[Intro]\\n(Yeah)\\nCan you feel it?\\nDon't a...</td>\n",
              "      <td>&lt;extra_id_0&gt;\\n\\n[Hook]\\nI'm wearing a blindfol...</td>\n",
              "      <td>&lt;extra_id_0&gt; [Hook] I'm wearing a blindfold, l...</td>\n",
              "      <td>&lt;extra_id_0&gt; [Hook] I'm wearing a blindfold, l...</td>\n",
              "    </tr>\n",
              "  </tbody>\n",
              "</table>\n",
              "<p>13176 rows × 5 columns</p>\n",
              "</div>\n",
              "      <button class=\"colab-df-convert\" onclick=\"convertToInteractive('df-b554e3d0-cd27-460e-80ca-0269a2a79df2')\"\n",
              "              title=\"Convert this dataframe to an interactive table.\"\n",
              "              style=\"display:none;\">\n",
              "        \n",
              "  <svg xmlns=\"http://www.w3.org/2000/svg\" height=\"24px\"viewBox=\"0 0 24 24\"\n",
              "       width=\"24px\">\n",
              "    <path d=\"M0 0h24v24H0V0z\" fill=\"none\"/>\n",
              "    <path d=\"M18.56 5.44l.94 2.06.94-2.06 2.06-.94-2.06-.94-.94-2.06-.94 2.06-2.06.94zm-11 1L8.5 8.5l.94-2.06 2.06-.94-2.06-.94L8.5 2.5l-.94 2.06-2.06.94zm10 10l.94 2.06.94-2.06 2.06-.94-2.06-.94-.94-2.06-.94 2.06-2.06.94z\"/><path d=\"M17.41 7.96l-1.37-1.37c-.4-.4-.92-.59-1.43-.59-.52 0-1.04.2-1.43.59L10.3 9.45l-7.72 7.72c-.78.78-.78 2.05 0 2.83L4 21.41c.39.39.9.59 1.41.59.51 0 1.02-.2 1.41-.59l7.78-7.78 2.81-2.81c.8-.78.8-2.07 0-2.86zM5.41 20L4 18.59l7.72-7.72 1.47 1.35L5.41 20z\"/>\n",
              "  </svg>\n",
              "      </button>\n",
              "      \n",
              "  <style>\n",
              "    .colab-df-container {\n",
              "      display:flex;\n",
              "      flex-wrap:wrap;\n",
              "      gap: 12px;\n",
              "    }\n",
              "\n",
              "    .colab-df-convert {\n",
              "      background-color: #E8F0FE;\n",
              "      border: none;\n",
              "      border-radius: 50%;\n",
              "      cursor: pointer;\n",
              "      display: none;\n",
              "      fill: #1967D2;\n",
              "      height: 32px;\n",
              "      padding: 0 0 0 0;\n",
              "      width: 32px;\n",
              "    }\n",
              "\n",
              "    .colab-df-convert:hover {\n",
              "      background-color: #E2EBFA;\n",
              "      box-shadow: 0px 1px 2px rgba(60, 64, 67, 0.3), 0px 1px 3px 1px rgba(60, 64, 67, 0.15);\n",
              "      fill: #174EA6;\n",
              "    }\n",
              "\n",
              "    [theme=dark] .colab-df-convert {\n",
              "      background-color: #3B4455;\n",
              "      fill: #D2E3FC;\n",
              "    }\n",
              "\n",
              "    [theme=dark] .colab-df-convert:hover {\n",
              "      background-color: #434B5C;\n",
              "      box-shadow: 0px 1px 3px 1px rgba(0, 0, 0, 0.15);\n",
              "      filter: drop-shadow(0px 1px 2px rgba(0, 0, 0, 0.3));\n",
              "      fill: #FFFFFF;\n",
              "    }\n",
              "  </style>\n",
              "\n",
              "      <script>\n",
              "        const buttonEl =\n",
              "          document.querySelector('#df-b554e3d0-cd27-460e-80ca-0269a2a79df2 button.colab-df-convert');\n",
              "        buttonEl.style.display =\n",
              "          google.colab.kernel.accessAllowed ? 'block' : 'none';\n",
              "\n",
              "        async function convertToInteractive(key) {\n",
              "          const element = document.querySelector('#df-b554e3d0-cd27-460e-80ca-0269a2a79df2');\n",
              "          const dataTable =\n",
              "            await google.colab.kernel.invokeFunction('convertToInteractive',\n",
              "                                                     [key], {});\n",
              "          if (!dataTable) return;\n",
              "\n",
              "          const docLinkHtml = 'Like what you see? Visit the ' +\n",
              "            '<a target=\"_blank\" href=https://colab.research.google.com/notebooks/data_table.ipynb>data table notebook</a>'\n",
              "            + ' to learn more about interactive tables.';\n",
              "          element.innerHTML = '';\n",
              "          dataTable['output_type'] = 'display_data';\n",
              "          await google.colab.output.renderOutput(dataTable, element);\n",
              "          const docLink = document.createElement('div');\n",
              "          docLink.innerHTML = docLinkHtml;\n",
              "          element.appendChild(docLink);\n",
              "        }\n",
              "      </script>\n",
              "    </div>\n",
              "  </div>\n",
              "  "
            ]
          },
          "metadata": {},
          "execution_count": 6
        }
      ]
    },
    {
      "cell_type": "code",
      "source": [
        "df = df.sort_values(by=\"song_id\").drop_duplicates(subset=[\"song_id\"], keep=\"last\")\n",
        "df = df.drop(columns=['targets_10', 'targets_20'])\n",
        "df"
      ],
      "metadata": {
        "id": "O3Bo9XETVu7U",
        "colab": {
          "base_uri": "https://localhost:8080/",
          "height": 4449
        },
        "outputId": "2747cfbb-06ff-4ecc-8ef7-5a582d91bf15"
      },
      "execution_count": null,
      "outputs": [
        {
          "output_type": "execute_result",
          "data": {
            "text/plain": [
              "                                             song_id  \\\n",
              "348                     112-peaches-and-cream-lyrics   \n",
              "937         116-and-lecrae-california-dreamin-lyrics   \n",
              "842                             116-authority-lyrics   \n",
              "6742                 1wayfrank-make-it-happen-lyrics   \n",
              "3004                              2-chainz-36-lyrics   \n",
              "...                                              ...   \n",
              "384                    Yung-lean-visions-of-u-lyrics   \n",
              "4707                         Zayn-i-wont-mind-lyrics   \n",
              "2428  Zayn-pillowtalk-tyler-the-creator-remix-lyrics   \n",
              "6851                Zaytoven-east-atlanta-day-lyrics   \n",
              "3418                       Zoey-dollaz-its-ok-lyrics   \n",
              "\n",
              "                                                 inputs  \\\n",
              "348   \\n\\nSo hot, hot\\nIt's the S the L the I the M\\...   \n",
              "937   \\n\\n[Intro: Lecrae]\\nZaytoven\\nYeah\\nWhat up W...   \n",
              "842   \\n\\n[Intro: Lecrae]\\nWhoa\\nIf you can't follow...   \n",
              "6742  \\n\\n\\n\\n[Verse 1: 1wayfrank]\\nI been standin' ...   \n",
              "3004  \\n\\n\\n\\n[Verse 1]\\nWhip that shit, with my wri...   \n",
              "...                                                 ...   \n",
              "384   \\n\\n\\n\\n[Verse 1]\\nI turn nothing to everythin...   \n",
              "4707  \\n\\n[Verse 1]\\nDon't look around 'cause love i...   \n",
              "2428  \\n\\n[Verse 1]\\nClimb on board\\nWe'll go slow a...   \n",
              "6851  \\n\\n[Intro: Gucci Mane]\\nEast Atlanta Day\\nWe ...   \n",
              "3418  \\n\\n\\n\\n[Verse 1: Zoey Dollaz]\\nI heard these ...   \n",
              "\n",
              "                                                targets  \n",
              "348   <extra_id_0>\\n\\n[Hook - 112 (Slim)]\\nPeaches a...  \n",
              "937   <extra_id_0>\\n\\n[Chorus: John Givez]\\nCali dre...  \n",
              "842   <extra_id_0>\\n\\n[Hook: Lecrae (Tedashii)]\\nIf ...  \n",
              "6742  <extra_id_0>\\n\\n[HOOK: 1WayFrank]\\nI Been trap...  \n",
              "3004                             <extra_id_0>\\n\\n[Hook]  \n",
              "...                                                 ...  \n",
              "384   <extra_id_0>\\n\\n[Hook]\\nI'm the angel of darkn...  \n",
              "4707  <extra_id_0>\\n\\n[Chorus]\\n'Cause we are who we...  \n",
              "2428  <extra_id_0>\\n\\n[Chorus]\\nSo we'll piss off th...  \n",
              "6851  <extra_id_0>\\n\\n[Chorus: Gucci Mane]\\nI just p...  \n",
              "3418  <extra_id_0>\\n\\n[Chorus: Zoey Dollaz]\\nI heard...  \n",
              "\n",
              "[4000 rows x 3 columns]"
            ],
            "text/html": [
              "\n",
              "  <div id=\"df-fa59561e-fae8-4555-a05d-8e3fa7958a49\">\n",
              "    <div class=\"colab-df-container\">\n",
              "      <div>\n",
              "<style scoped>\n",
              "    .dataframe tbody tr th:only-of-type {\n",
              "        vertical-align: middle;\n",
              "    }\n",
              "\n",
              "    .dataframe tbody tr th {\n",
              "        vertical-align: top;\n",
              "    }\n",
              "\n",
              "    .dataframe thead th {\n",
              "        text-align: right;\n",
              "    }\n",
              "</style>\n",
              "<table border=\"1\" class=\"dataframe\">\n",
              "  <thead>\n",
              "    <tr style=\"text-align: right;\">\n",
              "      <th></th>\n",
              "      <th>song_id</th>\n",
              "      <th>inputs</th>\n",
              "      <th>targets</th>\n",
              "    </tr>\n",
              "  </thead>\n",
              "  <tbody>\n",
              "    <tr>\n",
              "      <th>348</th>\n",
              "      <td>112-peaches-and-cream-lyrics</td>\n",
              "      <td>\\n\\nSo hot, hot\\nIt's the S the L the I the M\\...</td>\n",
              "      <td>&lt;extra_id_0&gt;\\n\\n[Hook - 112 (Slim)]\\nPeaches a...</td>\n",
              "    </tr>\n",
              "    <tr>\n",
              "      <th>937</th>\n",
              "      <td>116-and-lecrae-california-dreamin-lyrics</td>\n",
              "      <td>\\n\\n[Intro: Lecrae]\\nZaytoven\\nYeah\\nWhat up W...</td>\n",
              "      <td>&lt;extra_id_0&gt;\\n\\n[Chorus: John Givez]\\nCali dre...</td>\n",
              "    </tr>\n",
              "    <tr>\n",
              "      <th>842</th>\n",
              "      <td>116-authority-lyrics</td>\n",
              "      <td>\\n\\n[Intro: Lecrae]\\nWhoa\\nIf you can't follow...</td>\n",
              "      <td>&lt;extra_id_0&gt;\\n\\n[Hook: Lecrae (Tedashii)]\\nIf ...</td>\n",
              "    </tr>\n",
              "    <tr>\n",
              "      <th>6742</th>\n",
              "      <td>1wayfrank-make-it-happen-lyrics</td>\n",
              "      <td>\\n\\n\\n\\n[Verse 1: 1wayfrank]\\nI been standin' ...</td>\n",
              "      <td>&lt;extra_id_0&gt;\\n\\n[HOOK: 1WayFrank]\\nI Been trap...</td>\n",
              "    </tr>\n",
              "    <tr>\n",
              "      <th>3004</th>\n",
              "      <td>2-chainz-36-lyrics</td>\n",
              "      <td>\\n\\n\\n\\n[Verse 1]\\nWhip that shit, with my wri...</td>\n",
              "      <td>&lt;extra_id_0&gt;\\n\\n[Hook]</td>\n",
              "    </tr>\n",
              "    <tr>\n",
              "      <th>...</th>\n",
              "      <td>...</td>\n",
              "      <td>...</td>\n",
              "      <td>...</td>\n",
              "    </tr>\n",
              "    <tr>\n",
              "      <th>384</th>\n",
              "      <td>Yung-lean-visions-of-u-lyrics</td>\n",
              "      <td>\\n\\n\\n\\n[Verse 1]\\nI turn nothing to everythin...</td>\n",
              "      <td>&lt;extra_id_0&gt;\\n\\n[Hook]\\nI'm the angel of darkn...</td>\n",
              "    </tr>\n",
              "    <tr>\n",
              "      <th>4707</th>\n",
              "      <td>Zayn-i-wont-mind-lyrics</td>\n",
              "      <td>\\n\\n[Verse 1]\\nDon't look around 'cause love i...</td>\n",
              "      <td>&lt;extra_id_0&gt;\\n\\n[Chorus]\\n'Cause we are who we...</td>\n",
              "    </tr>\n",
              "    <tr>\n",
              "      <th>2428</th>\n",
              "      <td>Zayn-pillowtalk-tyler-the-creator-remix-lyrics</td>\n",
              "      <td>\\n\\n[Verse 1]\\nClimb on board\\nWe'll go slow a...</td>\n",
              "      <td>&lt;extra_id_0&gt;\\n\\n[Chorus]\\nSo we'll piss off th...</td>\n",
              "    </tr>\n",
              "    <tr>\n",
              "      <th>6851</th>\n",
              "      <td>Zaytoven-east-atlanta-day-lyrics</td>\n",
              "      <td>\\n\\n[Intro: Gucci Mane]\\nEast Atlanta Day\\nWe ...</td>\n",
              "      <td>&lt;extra_id_0&gt;\\n\\n[Chorus: Gucci Mane]\\nI just p...</td>\n",
              "    </tr>\n",
              "    <tr>\n",
              "      <th>3418</th>\n",
              "      <td>Zoey-dollaz-its-ok-lyrics</td>\n",
              "      <td>\\n\\n\\n\\n[Verse 1: Zoey Dollaz]\\nI heard these ...</td>\n",
              "      <td>&lt;extra_id_0&gt;\\n\\n[Chorus: Zoey Dollaz]\\nI heard...</td>\n",
              "    </tr>\n",
              "  </tbody>\n",
              "</table>\n",
              "<p>4000 rows × 3 columns</p>\n",
              "</div>\n",
              "      <button class=\"colab-df-convert\" onclick=\"convertToInteractive('df-fa59561e-fae8-4555-a05d-8e3fa7958a49')\"\n",
              "              title=\"Convert this dataframe to an interactive table.\"\n",
              "              style=\"display:none;\">\n",
              "        \n",
              "  <svg xmlns=\"http://www.w3.org/2000/svg\" height=\"24px\"viewBox=\"0 0 24 24\"\n",
              "       width=\"24px\">\n",
              "    <path d=\"M0 0h24v24H0V0z\" fill=\"none\"/>\n",
              "    <path d=\"M18.56 5.44l.94 2.06.94-2.06 2.06-.94-2.06-.94-.94-2.06-.94 2.06-2.06.94zm-11 1L8.5 8.5l.94-2.06 2.06-.94-2.06-.94L8.5 2.5l-.94 2.06-2.06.94zm10 10l.94 2.06.94-2.06 2.06-.94-2.06-.94-.94-2.06-.94 2.06-2.06.94z\"/><path d=\"M17.41 7.96l-1.37-1.37c-.4-.4-.92-.59-1.43-.59-.52 0-1.04.2-1.43.59L10.3 9.45l-7.72 7.72c-.78.78-.78 2.05 0 2.83L4 21.41c.39.39.9.59 1.41.59.51 0 1.02-.2 1.41-.59l7.78-7.78 2.81-2.81c.8-.78.8-2.07 0-2.86zM5.41 20L4 18.59l7.72-7.72 1.47 1.35L5.41 20z\"/>\n",
              "  </svg>\n",
              "      </button>\n",
              "      \n",
              "  <style>\n",
              "    .colab-df-container {\n",
              "      display:flex;\n",
              "      flex-wrap:wrap;\n",
              "      gap: 12px;\n",
              "    }\n",
              "\n",
              "    .colab-df-convert {\n",
              "      background-color: #E8F0FE;\n",
              "      border: none;\n",
              "      border-radius: 50%;\n",
              "      cursor: pointer;\n",
              "      display: none;\n",
              "      fill: #1967D2;\n",
              "      height: 32px;\n",
              "      padding: 0 0 0 0;\n",
              "      width: 32px;\n",
              "    }\n",
              "\n",
              "    .colab-df-convert:hover {\n",
              "      background-color: #E2EBFA;\n",
              "      box-shadow: 0px 1px 2px rgba(60, 64, 67, 0.3), 0px 1px 3px 1px rgba(60, 64, 67, 0.15);\n",
              "      fill: #174EA6;\n",
              "    }\n",
              "\n",
              "    [theme=dark] .colab-df-convert {\n",
              "      background-color: #3B4455;\n",
              "      fill: #D2E3FC;\n",
              "    }\n",
              "\n",
              "    [theme=dark] .colab-df-convert:hover {\n",
              "      background-color: #434B5C;\n",
              "      box-shadow: 0px 1px 3px 1px rgba(0, 0, 0, 0.15);\n",
              "      filter: drop-shadow(0px 1px 2px rgba(0, 0, 0, 0.3));\n",
              "      fill: #FFFFFF;\n",
              "    }\n",
              "  </style>\n",
              "\n",
              "      <script>\n",
              "        const buttonEl =\n",
              "          document.querySelector('#df-fa59561e-fae8-4555-a05d-8e3fa7958a49 button.colab-df-convert');\n",
              "        buttonEl.style.display =\n",
              "          google.colab.kernel.accessAllowed ? 'block' : 'none';\n",
              "\n",
              "        async function convertToInteractive(key) {\n",
              "          const element = document.querySelector('#df-fa59561e-fae8-4555-a05d-8e3fa7958a49');\n",
              "          const dataTable =\n",
              "            await google.colab.kernel.invokeFunction('convertToInteractive',\n",
              "                                                     [key], {});\n",
              "          if (!dataTable) return;\n",
              "\n",
              "          const docLinkHtml = 'Like what you see? Visit the ' +\n",
              "            '<a target=\"_blank\" href=https://colab.research.google.com/notebooks/data_table.ipynb>data table notebook</a>'\n",
              "            + ' to learn more about interactive tables.';\n",
              "          element.innerHTML = '';\n",
              "          dataTable['output_type'] = 'display_data';\n",
              "          await google.colab.output.renderOutput(dataTable, element);\n",
              "          const docLink = document.createElement('div');\n",
              "          docLink.innerHTML = docLinkHtml;\n",
              "          element.appendChild(docLink);\n",
              "        }\n",
              "      </script>\n",
              "    </div>\n",
              "  </div>\n",
              "  "
            ]
          },
          "metadata": {},
          "execution_count": 7
        }
      ]
    },
    {
      "cell_type": "code",
      "source": [
        "df['inputs'] = df['inputs'].apply(lambda x : re.sub(\"<extra_id_0>\", \"\", x))\n",
        "df['targets'] = df['targets'].apply(lambda x : re.sub(\"<extra_id_0>\", \"\", x))\n",
        "\n",
        "def preprocess(sentence):\n",
        "    sentence=str(sentence)\n",
        "\n",
        "    #uncased means words are all lowercased\n",
        "    sentence = sentence.lower()\n",
        "\n",
        "    # remove chorus and verse titles\n",
        "    # remove the brackets and everything in the brackets\n",
        "    sentence = re.sub(\"[\\[].*?[\\]]\", \"\", sentence)\n",
        "   \n",
        "    # replace parentheses only\n",
        "    sentence = re.sub(\"[\\(\\)]\", \"\", sentence) \n",
        "\n",
        "    sentence = re.sub(\",\", \" \", sentence)\n",
        "\n",
        "    return sentence"
      ],
      "metadata": {
        "id": "w9lCnPoeXG2Z"
      },
      "execution_count": null,
      "outputs": []
    },
    {
      "cell_type": "code",
      "source": [
        "inputs = []\n",
        "for input in df['inputs']:\n",
        "  input = preprocess(input)\n",
        "  inputs.append(input)\n",
        "\n",
        "df['inputs'] = inputs"
      ],
      "metadata": {
        "id": "XiOG98N7ZSwX"
      },
      "execution_count": null,
      "outputs": []
    },
    {
      "cell_type": "code",
      "source": [
        "df"
      ],
      "metadata": {
        "id": "mdF33UbnvO93"
      },
      "execution_count": null,
      "outputs": []
    },
    {
      "cell_type": "code",
      "source": [
        "outputs = []\n",
        "for output in df['targets']:\n",
        "  output = preprocess(output)\n",
        "  outputs.append(output)\n",
        "\n",
        "df['targets'] = outputs"
      ],
      "metadata": {
        "id": "NrLHiiJiZwcH"
      },
      "execution_count": null,
      "outputs": []
    },
    {
      "cell_type": "code",
      "source": [
        "c_num_lines = df.inputs.str.split('\\n').str.len()\n",
        "\n",
        "v_num_lines = df.targets.str.split('\\n').str.len()"
      ],
      "metadata": {
        "id": "Gt6-7HvCvdcf"
      },
      "execution_count": null,
      "outputs": []
    },
    {
      "cell_type": "code",
      "source": [
        "stop = stopwords.words('english') + ['i\\'m', 'yeah', 'ain\\'t', 'can\\'t']\n",
        "\n",
        "df['inputs_no_stopwords'] = df['inputs'].apply(lambda x: ' '.join([word for word in x.split() if word not in (stop)]))\n",
        "df['targets_no_stopwords'] = df['targets'].apply(lambda x: ' '.join([word for word in x.split() if word not in (stop)]))"
      ],
      "metadata": {
        "id": "HcSnQOl_vpcE"
      },
      "execution_count": null,
      "outputs": []
    },
    {
      "cell_type": "code",
      "source": [
        "if 'not' in stop:\n",
        "  print(True)\n",
        "else:\n",
        "  print(False)"
      ],
      "metadata": {
        "colab": {
          "base_uri": "https://localhost:8080/"
        },
        "id": "f18gNO6xIrJ7",
        "outputId": "b3ed296a-d58f-4703-f7b0-3f4c329c6988"
      },
      "execution_count": null,
      "outputs": [
        {
          "output_type": "stream",
          "name": "stdout",
          "text": [
            "True\n"
          ]
        }
      ]
    },
    {
      "cell_type": "code",
      "source": [
        "# stats for verses\n",
        "num_chars = df.inputs_no_stopwords.str.len()\n",
        "num_words = df.inpuinputs_no_stopwordsts.str.split().str.len()\n",
        "num_uniq_words = df.inputs_no_stopwords.apply(lambda x: len(set(x.split())))"
      ],
      "metadata": {
        "id": "Z55RnuLzWnWZ"
      },
      "execution_count": null,
      "outputs": []
    },
    {
      "cell_type": "code",
      "source": [
        "df['v_num_chars'] = num_chars\n",
        "df['v_num_words'] = num_words\n",
        "df['v_num_lines'] = v_num_lines\n",
        "df['v_num_uniq_words'] = num_uniq_words\n",
        "df['v_lexical_density'] = df['v_num_uniq_words'] / df['v_num_words']"
      ],
      "metadata": {
        "id": "CdLYZp6caaKc"
      },
      "execution_count": null,
      "outputs": []
    },
    {
      "cell_type": "code",
      "source": [
        "# stats for choruses\n",
        "num_chars = df.targets_no_stopwords.str.len()\n",
        "num_words = df.targets_no_stopwords.str.split().str.len()\n",
        "num_uniq_words = df.targets_no_stopwords.apply(lambda x: len(set(x.split())))"
      ],
      "metadata": {
        "id": "H4soRUS7cjG8"
      },
      "execution_count": null,
      "outputs": []
    },
    {
      "cell_type": "code",
      "source": [
        "df['c_num_chars'] = num_chars\n",
        "df['c_num_words'] = num_words\n",
        "df['c_num_lines'] = c_num_lines\n",
        "df['c_num_uniq_words'] = num_uniq_words\n",
        "df['c_lexical_density'] = df['c_num_uniq_words'] / df['c_num_words']"
      ],
      "metadata": {
        "id": "2whiDmLnc2sa"
      },
      "execution_count": null,
      "outputs": []
    },
    {
      "cell_type": "code",
      "source": [
        "df"
      ],
      "metadata": {
        "id": "sA_KnFOoc5Ob"
      },
      "execution_count": null,
      "outputs": []
    },
    {
      "cell_type": "code",
      "source": [
        ""
      ],
      "metadata": {
        "id": "vV5RCpeMfeaY"
      },
      "execution_count": null,
      "outputs": []
    },
    {
      "cell_type": "code",
      "source": [
        "# top 20 most common words in verses\n",
        "pd.Series(' '.join(df.inputs_no_stopwords).lower().split()).value_counts()[:20][::-1].plot(kind='barh', title='Top 20 Most Common Words in Verses')\n"
      ],
      "metadata": {
        "colab": {
          "base_uri": "https://localhost:8080/",
          "height": 298
        },
        "id": "NVzT6n5Bfj4W",
        "outputId": "14cf6128-e41c-4c33-c902-7b8925f7febd"
      },
      "execution_count": null,
      "outputs": [
        {
          "output_type": "execute_result",
          "data": {
            "text/plain": [
              "<matplotlib.axes._subplots.AxesSubplot at 0x7f9fd74ab350>"
            ]
          },
          "metadata": {},
          "execution_count": 43
        },
        {
          "output_type": "display_data",
          "data": {
            "text/plain": [
              "<Figure size 432x288 with 1 Axes>"
            ],
            "image/png": "[encoded data removed]"
          },
          "metadata": {
            "needs_background": "light"
          }
        }
      ]
    },
    {
      "cell_type": "code",
      "source": [
        "# top 20 most common words in chorus\n",
        "pd.Series(' '.join(df.targets_no_stopwords).lower().split()).value_counts()[:20][::-1].plot(kind='barh', title='Top 20 Most Common Words in Choruses')\n"
      ],
      "metadata": {
        "colab": {
          "base_uri": "https://localhost:8080/",
          "height": 298
        },
        "id": "ceA5Dw91hMPk",
        "outputId": "66204f87-26c2-4015-b5e0-8b966108278a"
      },
      "execution_count": null,
      "outputs": [
        {
          "output_type": "execute_result",
          "data": {
            "text/plain": [
              "<matplotlib.axes._subplots.AxesSubplot at 0x7f9fd87ac310>"
            ]
          },
          "metadata": {},
          "execution_count": 44
        },
        {
          "output_type": "display_data",
          "data": {
            "text/plain": [
              "<Figure size 432x288 with 1 Axes>"
            ],
            "image/png": "[encoded data removed]"
          },
          "metadata": {
            "needs_background": "light"
          }
        }
      ]
    }
  ]
}